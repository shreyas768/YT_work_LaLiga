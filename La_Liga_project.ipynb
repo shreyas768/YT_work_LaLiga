{
 "cells": [
  {
   "cell_type": "code",
   "execution_count": 106,
   "id": "cee3dd1a",
   "metadata": {},
   "outputs": [],
   "source": [
    "import numpy as np\n",
    "import pandas as pd\n",
    "from sklearn.ensemble import RandomForestClassifier\n",
    "from sklearn.model_selection import GridSearchCV, TimeSeriesSplit\n",
    "from sklearn.metrics import accuracy_score, confusion_matrix, precision_score\n",
    "import matplotlib.pyplot as plt\n",
    "import seaborn as sns"
   ]
  },
  {
   "cell_type": "code",
   "execution_count": 107,
   "id": "d176e301",
   "metadata": {},
   "outputs": [
    {
     "data": {
      "text/html": [
       "<div>\n",
       "<style scoped>\n",
       "    .dataframe tbody tr th:only-of-type {\n",
       "        vertical-align: middle;\n",
       "    }\n",
       "\n",
       "    .dataframe tbody tr th {\n",
       "        vertical-align: top;\n",
       "    }\n",
       "\n",
       "    .dataframe thead th {\n",
       "        text-align: right;\n",
       "    }\n",
       "</style>\n",
       "<table border=\"1\" class=\"dataframe\">\n",
       "  <thead>\n",
       "    <tr style=\"text-align: right;\">\n",
       "      <th></th>\n",
       "      <th>date</th>\n",
       "      <th>time</th>\n",
       "      <th>comp</th>\n",
       "      <th>round</th>\n",
       "      <th>day</th>\n",
       "      <th>venue</th>\n",
       "      <th>result</th>\n",
       "      <th>gf</th>\n",
       "      <th>ga</th>\n",
       "      <th>opponent</th>\n",
       "      <th>...</th>\n",
       "      <th>match report</th>\n",
       "      <th>notes</th>\n",
       "      <th>sh</th>\n",
       "      <th>sot</th>\n",
       "      <th>dist</th>\n",
       "      <th>fk</th>\n",
       "      <th>pk</th>\n",
       "      <th>pkatt</th>\n",
       "      <th>season</th>\n",
       "      <th>team</th>\n",
       "    </tr>\n",
       "  </thead>\n",
       "  <tbody>\n",
       "    <tr>\n",
       "      <th>0</th>\n",
       "      <td>2024-08-17</td>\n",
       "      <td>21:30</td>\n",
       "      <td>La Liga</td>\n",
       "      <td>Matchweek 1</td>\n",
       "      <td>Sat</td>\n",
       "      <td>Away</td>\n",
       "      <td>W</td>\n",
       "      <td>2.0</td>\n",
       "      <td>1.0</td>\n",
       "      <td>Valencia</td>\n",
       "      <td>...</td>\n",
       "      <td>Match Report</td>\n",
       "      <td>NaN</td>\n",
       "      <td>17.0</td>\n",
       "      <td>5.0</td>\n",
       "      <td>18.6</td>\n",
       "      <td>1.0</td>\n",
       "      <td>1</td>\n",
       "      <td>1</td>\n",
       "      <td>2025</td>\n",
       "      <td>Barcelona</td>\n",
       "    </tr>\n",
       "    <tr>\n",
       "      <th>1</th>\n",
       "      <td>2024-08-24</td>\n",
       "      <td>19:00</td>\n",
       "      <td>La Liga</td>\n",
       "      <td>Matchweek 2</td>\n",
       "      <td>Sat</td>\n",
       "      <td>Home</td>\n",
       "      <td>W</td>\n",
       "      <td>2.0</td>\n",
       "      <td>1.0</td>\n",
       "      <td>Athletic Club</td>\n",
       "      <td>...</td>\n",
       "      <td>Match Report</td>\n",
       "      <td>NaN</td>\n",
       "      <td>13.0</td>\n",
       "      <td>5.0</td>\n",
       "      <td>16.6</td>\n",
       "      <td>0.0</td>\n",
       "      <td>0</td>\n",
       "      <td>0</td>\n",
       "      <td>2025</td>\n",
       "      <td>Barcelona</td>\n",
       "    </tr>\n",
       "    <tr>\n",
       "      <th>2</th>\n",
       "      <td>2024-08-27</td>\n",
       "      <td>21:30</td>\n",
       "      <td>La Liga</td>\n",
       "      <td>Matchweek 3</td>\n",
       "      <td>Tue</td>\n",
       "      <td>Away</td>\n",
       "      <td>W</td>\n",
       "      <td>2.0</td>\n",
       "      <td>1.0</td>\n",
       "      <td>Rayo Vallecano</td>\n",
       "      <td>...</td>\n",
       "      <td>Match Report</td>\n",
       "      <td>NaN</td>\n",
       "      <td>22.0</td>\n",
       "      <td>5.0</td>\n",
       "      <td>19.3</td>\n",
       "      <td>1.0</td>\n",
       "      <td>0</td>\n",
       "      <td>0</td>\n",
       "      <td>2025</td>\n",
       "      <td>Barcelona</td>\n",
       "    </tr>\n",
       "    <tr>\n",
       "      <th>3</th>\n",
       "      <td>2024-08-31</td>\n",
       "      <td>17:00</td>\n",
       "      <td>La Liga</td>\n",
       "      <td>Matchweek 4</td>\n",
       "      <td>Sat</td>\n",
       "      <td>Home</td>\n",
       "      <td>W</td>\n",
       "      <td>7.0</td>\n",
       "      <td>0.0</td>\n",
       "      <td>Valladolid</td>\n",
       "      <td>...</td>\n",
       "      <td>Match Report</td>\n",
       "      <td>NaN</td>\n",
       "      <td>23.0</td>\n",
       "      <td>11.0</td>\n",
       "      <td>13.7</td>\n",
       "      <td>1.0</td>\n",
       "      <td>0</td>\n",
       "      <td>0</td>\n",
       "      <td>2025</td>\n",
       "      <td>Barcelona</td>\n",
       "    </tr>\n",
       "    <tr>\n",
       "      <th>4</th>\n",
       "      <td>2024-09-15</td>\n",
       "      <td>16:15</td>\n",
       "      <td>La Liga</td>\n",
       "      <td>Matchweek 5</td>\n",
       "      <td>Sun</td>\n",
       "      <td>Away</td>\n",
       "      <td>W</td>\n",
       "      <td>4.0</td>\n",
       "      <td>1.0</td>\n",
       "      <td>Girona</td>\n",
       "      <td>...</td>\n",
       "      <td>Match Report</td>\n",
       "      <td>NaN</td>\n",
       "      <td>20.0</td>\n",
       "      <td>9.0</td>\n",
       "      <td>19.1</td>\n",
       "      <td>0.0</td>\n",
       "      <td>0</td>\n",
       "      <td>0</td>\n",
       "      <td>2025</td>\n",
       "      <td>Barcelona</td>\n",
       "    </tr>\n",
       "    <tr>\n",
       "      <th>...</th>\n",
       "      <td>...</td>\n",
       "      <td>...</td>\n",
       "      <td>...</td>\n",
       "      <td>...</td>\n",
       "      <td>...</td>\n",
       "      <td>...</td>\n",
       "      <td>...</td>\n",
       "      <td>...</td>\n",
       "      <td>...</td>\n",
       "      <td>...</td>\n",
       "      <td>...</td>\n",
       "      <td>...</td>\n",
       "      <td>...</td>\n",
       "      <td>...</td>\n",
       "      <td>...</td>\n",
       "      <td>...</td>\n",
       "      <td>...</td>\n",
       "      <td>...</td>\n",
       "      <td>...</td>\n",
       "      <td>...</td>\n",
       "      <td>...</td>\n",
       "    </tr>\n",
       "    <tr>\n",
       "      <th>48</th>\n",
       "      <td>2020-07-05</td>\n",
       "      <td>17:00</td>\n",
       "      <td>La Liga</td>\n",
       "      <td>Matchweek 34</td>\n",
       "      <td>Sun</td>\n",
       "      <td>Home</td>\n",
       "      <td>L</td>\n",
       "      <td>0.0</td>\n",
       "      <td>1.0</td>\n",
       "      <td>Leganés</td>\n",
       "      <td>...</td>\n",
       "      <td>Match Report</td>\n",
       "      <td>NaN</td>\n",
       "      <td>7.0</td>\n",
       "      <td>2.0</td>\n",
       "      <td>18.9</td>\n",
       "      <td>1.0</td>\n",
       "      <td>0</td>\n",
       "      <td>0</td>\n",
       "      <td>2020</td>\n",
       "      <td>Espanyol</td>\n",
       "    </tr>\n",
       "    <tr>\n",
       "      <th>49</th>\n",
       "      <td>2020-07-08</td>\n",
       "      <td>22:00</td>\n",
       "      <td>La Liga</td>\n",
       "      <td>Matchweek 35</td>\n",
       "      <td>Wed</td>\n",
       "      <td>Away</td>\n",
       "      <td>L</td>\n",
       "      <td>0.0</td>\n",
       "      <td>1.0</td>\n",
       "      <td>Barcelona</td>\n",
       "      <td>...</td>\n",
       "      <td>Match Report</td>\n",
       "      <td>NaN</td>\n",
       "      <td>11.0</td>\n",
       "      <td>2.0</td>\n",
       "      <td>18.1</td>\n",
       "      <td>1.0</td>\n",
       "      <td>0</td>\n",
       "      <td>0</td>\n",
       "      <td>2020</td>\n",
       "      <td>Espanyol</td>\n",
       "    </tr>\n",
       "    <tr>\n",
       "      <th>50</th>\n",
       "      <td>2020-07-12</td>\n",
       "      <td>14:00</td>\n",
       "      <td>La Liga</td>\n",
       "      <td>Matchweek 36</td>\n",
       "      <td>Sun</td>\n",
       "      <td>Home</td>\n",
       "      <td>L</td>\n",
       "      <td>0.0</td>\n",
       "      <td>2.0</td>\n",
       "      <td>Eibar</td>\n",
       "      <td>...</td>\n",
       "      <td>Match Report</td>\n",
       "      <td>NaN</td>\n",
       "      <td>14.0</td>\n",
       "      <td>3.0</td>\n",
       "      <td>20.8</td>\n",
       "      <td>3.0</td>\n",
       "      <td>0</td>\n",
       "      <td>0</td>\n",
       "      <td>2020</td>\n",
       "      <td>Espanyol</td>\n",
       "    </tr>\n",
       "    <tr>\n",
       "      <th>51</th>\n",
       "      <td>2020-07-16</td>\n",
       "      <td>21:00</td>\n",
       "      <td>La Liga</td>\n",
       "      <td>Matchweek 37</td>\n",
       "      <td>Thu</td>\n",
       "      <td>Away</td>\n",
       "      <td>L</td>\n",
       "      <td>0.0</td>\n",
       "      <td>1.0</td>\n",
       "      <td>Valencia</td>\n",
       "      <td>...</td>\n",
       "      <td>Match Report</td>\n",
       "      <td>NaN</td>\n",
       "      <td>18.0</td>\n",
       "      <td>6.0</td>\n",
       "      <td>21.3</td>\n",
       "      <td>3.0</td>\n",
       "      <td>0</td>\n",
       "      <td>0</td>\n",
       "      <td>2020</td>\n",
       "      <td>Espanyol</td>\n",
       "    </tr>\n",
       "    <tr>\n",
       "      <th>52</th>\n",
       "      <td>2020-07-19</td>\n",
       "      <td>21:00</td>\n",
       "      <td>La Liga</td>\n",
       "      <td>Matchweek 38</td>\n",
       "      <td>Sun</td>\n",
       "      <td>Home</td>\n",
       "      <td>D</td>\n",
       "      <td>0.0</td>\n",
       "      <td>0.0</td>\n",
       "      <td>Celta Vigo</td>\n",
       "      <td>...</td>\n",
       "      <td>Match Report</td>\n",
       "      <td>NaN</td>\n",
       "      <td>8.0</td>\n",
       "      <td>1.0</td>\n",
       "      <td>17.2</td>\n",
       "      <td>0.0</td>\n",
       "      <td>0</td>\n",
       "      <td>0</td>\n",
       "      <td>2020</td>\n",
       "      <td>Espanyol</td>\n",
       "    </tr>\n",
       "  </tbody>\n",
       "</table>\n",
       "<p>4318 rows × 28 columns</p>\n",
       "</div>"
      ],
      "text/plain": [
       "          date   time     comp         round  day venue result   gf   ga  \\\n",
       "0   2024-08-17  21:30  La Liga   Matchweek 1  Sat  Away      W  2.0  1.0   \n",
       "1   2024-08-24  19:00  La Liga   Matchweek 2  Sat  Home      W  2.0  1.0   \n",
       "2   2024-08-27  21:30  La Liga   Matchweek 3  Tue  Away      W  2.0  1.0   \n",
       "3   2024-08-31  17:00  La Liga   Matchweek 4  Sat  Home      W  7.0  0.0   \n",
       "4   2024-09-15  16:15  La Liga   Matchweek 5  Sun  Away      W  4.0  1.0   \n",
       "..         ...    ...      ...           ...  ...   ...    ...  ...  ...   \n",
       "48  2020-07-05  17:00  La Liga  Matchweek 34  Sun  Home      L  0.0  1.0   \n",
       "49  2020-07-08  22:00  La Liga  Matchweek 35  Wed  Away      L  0.0  1.0   \n",
       "50  2020-07-12  14:00  La Liga  Matchweek 36  Sun  Home      L  0.0  2.0   \n",
       "51  2020-07-16  21:00  La Liga  Matchweek 37  Thu  Away      L  0.0  1.0   \n",
       "52  2020-07-19  21:00  La Liga  Matchweek 38  Sun  Home      D  0.0  0.0   \n",
       "\n",
       "          opponent  ...  match report  notes    sh   sot  dist   fk pk pkatt  \\\n",
       "0         Valencia  ...  Match Report    NaN  17.0   5.0  18.6  1.0  1     1   \n",
       "1    Athletic Club  ...  Match Report    NaN  13.0   5.0  16.6  0.0  0     0   \n",
       "2   Rayo Vallecano  ...  Match Report    NaN  22.0   5.0  19.3  1.0  0     0   \n",
       "3       Valladolid  ...  Match Report    NaN  23.0  11.0  13.7  1.0  0     0   \n",
       "4           Girona  ...  Match Report    NaN  20.0   9.0  19.1  0.0  0     0   \n",
       "..             ...  ...           ...    ...   ...   ...   ...  ... ..   ...   \n",
       "48         Leganés  ...  Match Report    NaN   7.0   2.0  18.9  1.0  0     0   \n",
       "49       Barcelona  ...  Match Report    NaN  11.0   2.0  18.1  1.0  0     0   \n",
       "50           Eibar  ...  Match Report    NaN  14.0   3.0  20.8  3.0  0     0   \n",
       "51        Valencia  ...  Match Report    NaN  18.0   6.0  21.3  3.0  0     0   \n",
       "52      Celta Vigo  ...  Match Report    NaN   8.0   1.0  17.2  0.0  0     0   \n",
       "\n",
       "   season       team  \n",
       "0    2025  Barcelona  \n",
       "1    2025  Barcelona  \n",
       "2    2025  Barcelona  \n",
       "3    2025  Barcelona  \n",
       "4    2025  Barcelona  \n",
       "..    ...        ...  \n",
       "48   2020   Espanyol  \n",
       "49   2020   Espanyol  \n",
       "50   2020   Espanyol  \n",
       "51   2020   Espanyol  \n",
       "52   2020   Espanyol  \n",
       "\n",
       "[4318 rows x 28 columns]"
      ]
     },
     "execution_count": 107,
     "metadata": {},
     "output_type": "execute_result"
    }
   ],
   "source": [
    "matches = pd.read_csv('matches_full.csv', index_col=0)\n",
    "matches"
   ]
  },
  {
   "cell_type": "code",
   "execution_count": 108,
   "id": "2b6c7bc7",
   "metadata": {},
   "outputs": [
    {
     "name": "stdout",
     "output_type": "stream",
     "text": [
      "<class 'pandas.core.frame.DataFrame'>\n",
      "Index: 4318 entries, 0 to 52\n",
      "Data columns (total 28 columns):\n",
      " #   Column         Non-Null Count  Dtype  \n",
      "---  ------         --------------  -----  \n",
      " 0   date           4318 non-null   object \n",
      " 1   time           4318 non-null   object \n",
      " 2   comp           4318 non-null   object \n",
      " 3   round          4318 non-null   object \n",
      " 4   day            4318 non-null   object \n",
      " 5   venue          4318 non-null   object \n",
      " 6   result         4318 non-null   object \n",
      " 7   gf             4318 non-null   float64\n",
      " 8   ga             4318 non-null   float64\n",
      " 9   opponent       4318 non-null   object \n",
      " 10  xg             4318 non-null   float64\n",
      " 11  xga            4318 non-null   float64\n",
      " 12  poss           4318 non-null   float64\n",
      " 13  attendance     3344 non-null   float64\n",
      " 14  captain        4318 non-null   object \n",
      " 15  formation      4318 non-null   object \n",
      " 16  opp formation  4318 non-null   object \n",
      " 17  referee        4264 non-null   object \n",
      " 18  match report   4318 non-null   object \n",
      " 19  notes          0 non-null      float64\n",
      " 20  sh             4318 non-null   float64\n",
      " 21  sot            4318 non-null   float64\n",
      " 22  dist           4315 non-null   float64\n",
      " 23  fk             4318 non-null   float64\n",
      " 24  pk             4318 non-null   int64  \n",
      " 25  pkatt          4318 non-null   int64  \n",
      " 26  season         4318 non-null   int64  \n",
      " 27  team           4318 non-null   object \n",
      "dtypes: float64(11), int64(3), object(14)\n",
      "memory usage: 978.3+ KB\n"
     ]
    }
   ],
   "source": [
    "matches.info()"
   ]
  },
  {
   "cell_type": "markdown",
   "id": "5f667274",
   "metadata": {},
   "source": [
    "###### Feature Engineering"
   ]
  },
  {
   "cell_type": "code",
   "execution_count": 109,
   "id": "8d47c678",
   "metadata": {},
   "outputs": [],
   "source": [
    "matches['date'] = pd.to_datetime(matches['date'])\n"
   ]
  },
  {
   "cell_type": "code",
   "execution_count": 110,
   "id": "5c3fbc5e",
   "metadata": {},
   "outputs": [],
   "source": [
    "matches['venue_code'] = matches['venue'].astype('category').cat.codes"
   ]
  },
  {
   "cell_type": "code",
   "execution_count": 111,
   "id": "579afc98",
   "metadata": {},
   "outputs": [],
   "source": [
    "matches['opponent_code'] = matches['opponent'].astype('category').cat.codes"
   ]
  },
  {
   "cell_type": "code",
   "execution_count": 112,
   "id": "99954d20",
   "metadata": {},
   "outputs": [],
   "source": [
    "matches['hour'] = matches['time'].str.split(':').str[0].astype(int)"
   ]
  },
  {
   "cell_type": "code",
   "execution_count": 113,
   "id": "6a55af34",
   "metadata": {},
   "outputs": [],
   "source": [
    "matches['day_code'] = matches['date'].dt.dayofweek"
   ]
  },
  {
   "cell_type": "code",
   "execution_count": 114,
   "id": "52d91df9",
   "metadata": {},
   "outputs": [],
   "source": [
    "matches['referee_code'] = matches['referee'].astype('category').cat.codes"
   ]
  },
  {
   "cell_type": "code",
   "execution_count": 115,
   "id": "2e39ab26",
   "metadata": {},
   "outputs": [],
   "source": [
    "matches['captain_code'] = matches['captain'].astype('category').cat.codes"
   ]
  },
  {
   "cell_type": "code",
   "execution_count": 116,
   "id": "d4aef2ff",
   "metadata": {},
   "outputs": [],
   "source": [
    "matches['xg_diff'] = matches['xg']-matches['xga']"
   ]
  },
  {
   "cell_type": "code",
   "execution_count": 117,
   "id": "dbc9a7bf",
   "metadata": {},
   "outputs": [],
   "source": [
    "matches['shot_accuracy'] = matches['sot']/matches['sh'].replace(0,np.nan)"
   ]
  },
  {
   "cell_type": "code",
   "execution_count": 118,
   "id": "52a820b2",
   "metadata": {},
   "outputs": [],
   "source": [
    "matches['shot_accuracy'] = matches['shot_accuracy'].fillna(0)"
   ]
  },
  {
   "cell_type": "code",
   "execution_count": 119,
   "id": "5e8afebc",
   "metadata": {},
   "outputs": [],
   "source": [
    "matches['round_code'] = matches['round'].astype('category').cat.codes"
   ]
  },
  {
   "cell_type": "code",
   "execution_count": 120,
   "id": "b5f44458",
   "metadata": {},
   "outputs": [],
   "source": [
    "matches['form_code'] = matches['formation'].astype('category').cat.codes"
   ]
  },
  {
   "cell_type": "code",
   "execution_count": 121,
   "id": "61f8dd93",
   "metadata": {},
   "outputs": [],
   "source": [
    "matches['oppform_code'] = matches['opp formation'].astype('category').cat.codes"
   ]
  },
  {
   "cell_type": "code",
   "execution_count": 122,
   "id": "ddb27fc1",
   "metadata": {},
   "outputs": [],
   "source": [
    "matches['target'] = (matches['result']=='W').astype('int')"
   ]
  },
  {
   "cell_type": "markdown",
   "id": "0eb6428f",
   "metadata": {},
   "source": [
    "###### Rolling Averages"
   ]
  },
  {
   "cell_type": "code",
   "execution_count": 123,
   "id": "4a07e5de",
   "metadata": {},
   "outputs": [],
   "source": [
    "def rolling_averages(group, cols, new_cols):\n",
    "    group = group.sort_values('date')\n",
    "    rolling_stats = group[cols].rolling(3,closed = 'left').mean()\n",
    "    group[new_cols] = rolling_stats\n",
    "    return group.dropna(subset=new_cols)"
   ]
  },
  {
   "cell_type": "code",
   "execution_count": 124,
   "id": "3472a5da",
   "metadata": {},
   "outputs": [
    {
     "data": {
      "text/plain": [
       "Index(['date', 'time', 'comp', 'round', 'day', 'venue', 'result', 'gf', 'ga',\n",
       "       'opponent', 'xg', 'xga', 'poss', 'attendance', 'captain', 'formation',\n",
       "       'opp formation', 'referee', 'match report', 'notes', 'sh', 'sot',\n",
       "       'dist', 'fk', 'pk', 'pkatt', 'season', 'team', 'venue_code',\n",
       "       'opponent_code', 'hour', 'day_code', 'referee_code', 'captain_code',\n",
       "       'xg_diff', 'shot_accuracy', 'round_code', 'form_code', 'oppform_code',\n",
       "       'target'],\n",
       "      dtype='object')"
      ]
     },
     "execution_count": 124,
     "metadata": {},
     "output_type": "execute_result"
    }
   ],
   "source": [
    "matches.columns"
   ]
  },
  {
   "cell_type": "code",
   "execution_count": 125,
   "id": "010ff18f",
   "metadata": {},
   "outputs": [],
   "source": [
    "cols = ['gf', 'ga','sh', 'sot', 'dist', 'fk', 'pk', 'pkatt','poss','xg_diff', 'shot_accuracy']\n",
    "\n",
    "new_cols = [f'{c}_rolling' for c in cols]\n",
    "\n",
    "matches_rolling = matches.groupby('team').apply(lambda x : rolling_averages(x, cols,new_cols))\n",
    "matches_rolling = matches_rolling.droplevel('team')\n",
    "\n",
    "matches_rolling.index = range(matches_rolling.shape[0])"
   ]
  },
  {
   "cell_type": "markdown",
   "id": "d470d047",
   "metadata": {},
   "source": [
    "###### New feature: Team form (Last 5 matches)"
   ]
  },
  {
   "cell_type": "code",
   "execution_count": 126,
   "id": "296cd9ef",
   "metadata": {},
   "outputs": [],
   "source": [
    "def calculate_team_form(group):\n",
    "    group = group.sort_values('date')\n",
    "    group['points'] = group['result'].map({'W':3,'L':0,'D':1})\n",
    "    group['team_form'] = group['points'].rolling(5,closed='left').mean().fillna(0)\n",
    "    return group"
   ]
  },
  {
   "cell_type": "markdown",
   "id": "b7dbcaf5",
   "metadata": {},
   "source": [
    "###### New feature: H-H win percentage"
   ]
  },
  {
   "cell_type": "code",
   "execution_count": 127,
   "id": "94a9c9af",
   "metadata": {},
   "outputs": [],
   "source": [
    "def calculate_head_to_head(df):\n",
    "    h2h = df.groupby(['team','opponent'])['target'].mean().reset_index()\n",
    "    h2h.columns = ['team','opponent','h2h_win_pct']\n",
    "    return df.merge(h2h, on = ['team','opponent'], how = 'left')"
   ]
  },
  {
   "cell_type": "code",
   "execution_count": 128,
   "id": "a136f24e",
   "metadata": {},
   "outputs": [],
   "source": [
    "matches_rolling = matches_rolling.groupby('team').apply(calculate_team_form)\n",
    "matches_rolling = matches_rolling.droplevel('team')\n",
    "\n",
    "matches_rolling.index = range(matches_rolling.shape[0])"
   ]
  },
  {
   "cell_type": "code",
   "execution_count": 129,
   "id": "cadafc7b",
   "metadata": {},
   "outputs": [],
   "source": [
    "matches_rolling = calculate_head_to_head(matches_rolling)\n",
    "matches_rolling['h2h_win_pct'] = matches_rolling['h2h_win_pct'].fillna(0)"
   ]
  },
  {
   "cell_type": "markdown",
   "id": "abb854ed",
   "metadata": {},
   "source": [
    "###### Predictors and Train-Test Split"
   ]
  },
  {
   "cell_type": "code",
   "execution_count": 130,
   "id": "44dc2033",
   "metadata": {},
   "outputs": [
    {
     "data": {
      "text/plain": [
       "Index(['date', 'time', 'comp', 'round', 'day', 'venue', 'result', 'gf', 'ga',\n",
       "       'opponent', 'xg', 'xga', 'poss', 'attendance', 'captain', 'formation',\n",
       "       'opp formation', 'referee', 'match report', 'notes', 'sh', 'sot',\n",
       "       'dist', 'fk', 'pk', 'pkatt', 'season', 'team', 'venue_code',\n",
       "       'opponent_code', 'hour', 'day_code', 'referee_code', 'captain_code',\n",
       "       'xg_diff', 'shot_accuracy', 'round_code', 'form_code', 'oppform_code',\n",
       "       'target'],\n",
       "      dtype='object')"
      ]
     },
     "execution_count": 130,
     "metadata": {},
     "output_type": "execute_result"
    }
   ],
   "source": [
    "matches.columns"
   ]
  },
  {
   "cell_type": "code",
   "execution_count": 131,
   "id": "8d6f48d7",
   "metadata": {},
   "outputs": [],
   "source": [
    "predictors = ['venue_code',\n",
    "       'opponent_code', 'hour', 'day_code', 'referee_code', 'captain_code',\n",
    "       'xg_diff', 'shot_accuracy', 'round_code', 'form_code', 'oppform_code',\n",
    "       ]+new_cols+ ['team_form','h2h_win_pct']\n",
    "\n",
    "train = matches_rolling[matches_rolling['date'] < '2025-01-01']\n",
    "test = matches_rolling[matches_rolling['date'] > '2025-01-01']"
   ]
  },
  {
   "cell_type": "markdown",
   "id": "3c057792",
   "metadata": {},
   "source": [
    "###### Hyperparameter Tuning"
   ]
  },
  {
   "cell_type": "code",
   "execution_count": 132,
   "id": "40840d50",
   "metadata": {},
   "outputs": [],
   "source": [
    "param_grid = {\n",
    "    'n_estimators' : [100,200],\n",
    "    'max_depth' : [10,20],\n",
    "    'min_samples_split' :[5,10]\n",
    "}"
   ]
  },
  {
   "cell_type": "code",
   "execution_count": 133,
   "id": "a99868cb",
   "metadata": {},
   "outputs": [
    {
     "data": {
      "text/html": [
       "<style>#sk-container-id-7 {color: black;background-color: white;}#sk-container-id-7 pre{padding: 0;}#sk-container-id-7 div.sk-toggleable {background-color: white;}#sk-container-id-7 label.sk-toggleable__label {cursor: pointer;display: block;width: 100%;margin-bottom: 0;padding: 0.3em;box-sizing: border-box;text-align: center;}#sk-container-id-7 label.sk-toggleable__label-arrow:before {content: \"▸\";float: left;margin-right: 0.25em;color: #696969;}#sk-container-id-7 label.sk-toggleable__label-arrow:hover:before {color: black;}#sk-container-id-7 div.sk-estimator:hover label.sk-toggleable__label-arrow:before {color: black;}#sk-container-id-7 div.sk-toggleable__content {max-height: 0;max-width: 0;overflow: hidden;text-align: left;background-color: #f0f8ff;}#sk-container-id-7 div.sk-toggleable__content pre {margin: 0.2em;color: black;border-radius: 0.25em;background-color: #f0f8ff;}#sk-container-id-7 input.sk-toggleable__control:checked~div.sk-toggleable__content {max-height: 200px;max-width: 100%;overflow: auto;}#sk-container-id-7 input.sk-toggleable__control:checked~label.sk-toggleable__label-arrow:before {content: \"▾\";}#sk-container-id-7 div.sk-estimator input.sk-toggleable__control:checked~label.sk-toggleable__label {background-color: #d4ebff;}#sk-container-id-7 div.sk-label input.sk-toggleable__control:checked~label.sk-toggleable__label {background-color: #d4ebff;}#sk-container-id-7 input.sk-hidden--visually {border: 0;clip: rect(1px 1px 1px 1px);clip: rect(1px, 1px, 1px, 1px);height: 1px;margin: -1px;overflow: hidden;padding: 0;position: absolute;width: 1px;}#sk-container-id-7 div.sk-estimator {font-family: monospace;background-color: #f0f8ff;border: 1px dotted black;border-radius: 0.25em;box-sizing: border-box;margin-bottom: 0.5em;}#sk-container-id-7 div.sk-estimator:hover {background-color: #d4ebff;}#sk-container-id-7 div.sk-parallel-item::after {content: \"\";width: 100%;border-bottom: 1px solid gray;flex-grow: 1;}#sk-container-id-7 div.sk-label:hover label.sk-toggleable__label {background-color: #d4ebff;}#sk-container-id-7 div.sk-serial::before {content: \"\";position: absolute;border-left: 1px solid gray;box-sizing: border-box;top: 0;bottom: 0;left: 50%;z-index: 0;}#sk-container-id-7 div.sk-serial {display: flex;flex-direction: column;align-items: center;background-color: white;padding-right: 0.2em;padding-left: 0.2em;position: relative;}#sk-container-id-7 div.sk-item {position: relative;z-index: 1;}#sk-container-id-7 div.sk-parallel {display: flex;align-items: stretch;justify-content: center;background-color: white;position: relative;}#sk-container-id-7 div.sk-item::before, #sk-container-id-7 div.sk-parallel-item::before {content: \"\";position: absolute;border-left: 1px solid gray;box-sizing: border-box;top: 0;bottom: 0;left: 50%;z-index: -1;}#sk-container-id-7 div.sk-parallel-item {display: flex;flex-direction: column;z-index: 1;position: relative;background-color: white;}#sk-container-id-7 div.sk-parallel-item:first-child::after {align-self: flex-end;width: 50%;}#sk-container-id-7 div.sk-parallel-item:last-child::after {align-self: flex-start;width: 50%;}#sk-container-id-7 div.sk-parallel-item:only-child::after {width: 0;}#sk-container-id-7 div.sk-dashed-wrapped {border: 1px dashed gray;margin: 0 0.4em 0.5em 0.4em;box-sizing: border-box;padding-bottom: 0.4em;background-color: white;}#sk-container-id-7 div.sk-label label {font-family: monospace;font-weight: bold;display: inline-block;line-height: 1.2em;}#sk-container-id-7 div.sk-label-container {text-align: center;}#sk-container-id-7 div.sk-container {/* jupyter's `normalize.less` sets `[hidden] { display: none; }` but bootstrap.min.css set `[hidden] { display: none !important; }` so we also need the `!important` here to be able to override the default hidden behavior on the sphinx rendered scikit-learn.org. See: https://github.com/scikit-learn/scikit-learn/issues/21755 */display: inline-block !important;position: relative;}#sk-container-id-7 div.sk-text-repr-fallback {display: none;}</style><div id=\"sk-container-id-7\" class=\"sk-top-container\"><div class=\"sk-text-repr-fallback\"><pre>GridSearchCV(cv=TimeSeriesSplit(gap=0, max_train_size=None, n_splits=3, test_size=None),\n",
       "             estimator=RandomForestClassifier(random_state=1), n_jobs=-1,\n",
       "             param_grid={&#x27;max_depth&#x27;: [10, 20], &#x27;min_samples_split&#x27;: [5, 10],\n",
       "                         &#x27;n_estimators&#x27;: [100, 200]},\n",
       "             scoring=&#x27;precision&#x27;)</pre><b>In a Jupyter environment, please rerun this cell to show the HTML representation or trust the notebook. <br />On GitHub, the HTML representation is unable to render, please try loading this page with nbviewer.org.</b></div><div class=\"sk-container\" hidden><div class=\"sk-item sk-dashed-wrapped\"><div class=\"sk-label-container\"><div class=\"sk-label sk-toggleable\"><input class=\"sk-toggleable__control sk-hidden--visually\" id=\"sk-estimator-id-15\" type=\"checkbox\" ><label for=\"sk-estimator-id-15\" class=\"sk-toggleable__label sk-toggleable__label-arrow\">GridSearchCV</label><div class=\"sk-toggleable__content\"><pre>GridSearchCV(cv=TimeSeriesSplit(gap=0, max_train_size=None, n_splits=3, test_size=None),\n",
       "             estimator=RandomForestClassifier(random_state=1), n_jobs=-1,\n",
       "             param_grid={&#x27;max_depth&#x27;: [10, 20], &#x27;min_samples_split&#x27;: [5, 10],\n",
       "                         &#x27;n_estimators&#x27;: [100, 200]},\n",
       "             scoring=&#x27;precision&#x27;)</pre></div></div></div><div class=\"sk-parallel\"><div class=\"sk-parallel-item\"><div class=\"sk-item\"><div class=\"sk-label-container\"><div class=\"sk-label sk-toggleable\"><input class=\"sk-toggleable__control sk-hidden--visually\" id=\"sk-estimator-id-16\" type=\"checkbox\" ><label for=\"sk-estimator-id-16\" class=\"sk-toggleable__label sk-toggleable__label-arrow\">estimator: RandomForestClassifier</label><div class=\"sk-toggleable__content\"><pre>RandomForestClassifier(random_state=1)</pre></div></div></div><div class=\"sk-serial\"><div class=\"sk-item\"><div class=\"sk-estimator sk-toggleable\"><input class=\"sk-toggleable__control sk-hidden--visually\" id=\"sk-estimator-id-17\" type=\"checkbox\" ><label for=\"sk-estimator-id-17\" class=\"sk-toggleable__label sk-toggleable__label-arrow\">RandomForestClassifier</label><div class=\"sk-toggleable__content\"><pre>RandomForestClassifier(random_state=1)</pre></div></div></div></div></div></div></div></div></div></div>"
      ],
      "text/plain": [
       "GridSearchCV(cv=TimeSeriesSplit(gap=0, max_train_size=None, n_splits=3, test_size=None),\n",
       "             estimator=RandomForestClassifier(random_state=1), n_jobs=-1,\n",
       "             param_grid={'max_depth': [10, 20], 'min_samples_split': [5, 10],\n",
       "                         'n_estimators': [100, 200]},\n",
       "             scoring='precision')"
      ]
     },
     "execution_count": 133,
     "metadata": {},
     "output_type": "execute_result"
    }
   ],
   "source": [
    "rf = RandomForestClassifier(random_state=1)\n",
    "grid_search = GridSearchCV(rf,param_grid,cv=TimeSeriesSplit(n_splits=3), scoring='precision',n_jobs =-1)\n",
    "grid_search.fit(train[predictors], train['target'])\n"
   ]
  },
  {
   "cell_type": "code",
   "execution_count": 134,
   "id": "dcd5fda8",
   "metadata": {},
   "outputs": [],
   "source": [
    "best_rf = grid_search.best_estimator_"
   ]
  },
  {
   "cell_type": "code",
   "execution_count": 135,
   "id": "02140249",
   "metadata": {},
   "outputs": [
    {
     "data": {
      "text/html": [
       "<style>#sk-container-id-8 {color: black;background-color: white;}#sk-container-id-8 pre{padding: 0;}#sk-container-id-8 div.sk-toggleable {background-color: white;}#sk-container-id-8 label.sk-toggleable__label {cursor: pointer;display: block;width: 100%;margin-bottom: 0;padding: 0.3em;box-sizing: border-box;text-align: center;}#sk-container-id-8 label.sk-toggleable__label-arrow:before {content: \"▸\";float: left;margin-right: 0.25em;color: #696969;}#sk-container-id-8 label.sk-toggleable__label-arrow:hover:before {color: black;}#sk-container-id-8 div.sk-estimator:hover label.sk-toggleable__label-arrow:before {color: black;}#sk-container-id-8 div.sk-toggleable__content {max-height: 0;max-width: 0;overflow: hidden;text-align: left;background-color: #f0f8ff;}#sk-container-id-8 div.sk-toggleable__content pre {margin: 0.2em;color: black;border-radius: 0.25em;background-color: #f0f8ff;}#sk-container-id-8 input.sk-toggleable__control:checked~div.sk-toggleable__content {max-height: 200px;max-width: 100%;overflow: auto;}#sk-container-id-8 input.sk-toggleable__control:checked~label.sk-toggleable__label-arrow:before {content: \"▾\";}#sk-container-id-8 div.sk-estimator input.sk-toggleable__control:checked~label.sk-toggleable__label {background-color: #d4ebff;}#sk-container-id-8 div.sk-label input.sk-toggleable__control:checked~label.sk-toggleable__label {background-color: #d4ebff;}#sk-container-id-8 input.sk-hidden--visually {border: 0;clip: rect(1px 1px 1px 1px);clip: rect(1px, 1px, 1px, 1px);height: 1px;margin: -1px;overflow: hidden;padding: 0;position: absolute;width: 1px;}#sk-container-id-8 div.sk-estimator {font-family: monospace;background-color: #f0f8ff;border: 1px dotted black;border-radius: 0.25em;box-sizing: border-box;margin-bottom: 0.5em;}#sk-container-id-8 div.sk-estimator:hover {background-color: #d4ebff;}#sk-container-id-8 div.sk-parallel-item::after {content: \"\";width: 100%;border-bottom: 1px solid gray;flex-grow: 1;}#sk-container-id-8 div.sk-label:hover label.sk-toggleable__label {background-color: #d4ebff;}#sk-container-id-8 div.sk-serial::before {content: \"\";position: absolute;border-left: 1px solid gray;box-sizing: border-box;top: 0;bottom: 0;left: 50%;z-index: 0;}#sk-container-id-8 div.sk-serial {display: flex;flex-direction: column;align-items: center;background-color: white;padding-right: 0.2em;padding-left: 0.2em;position: relative;}#sk-container-id-8 div.sk-item {position: relative;z-index: 1;}#sk-container-id-8 div.sk-parallel {display: flex;align-items: stretch;justify-content: center;background-color: white;position: relative;}#sk-container-id-8 div.sk-item::before, #sk-container-id-8 div.sk-parallel-item::before {content: \"\";position: absolute;border-left: 1px solid gray;box-sizing: border-box;top: 0;bottom: 0;left: 50%;z-index: -1;}#sk-container-id-8 div.sk-parallel-item {display: flex;flex-direction: column;z-index: 1;position: relative;background-color: white;}#sk-container-id-8 div.sk-parallel-item:first-child::after {align-self: flex-end;width: 50%;}#sk-container-id-8 div.sk-parallel-item:last-child::after {align-self: flex-start;width: 50%;}#sk-container-id-8 div.sk-parallel-item:only-child::after {width: 0;}#sk-container-id-8 div.sk-dashed-wrapped {border: 1px dashed gray;margin: 0 0.4em 0.5em 0.4em;box-sizing: border-box;padding-bottom: 0.4em;background-color: white;}#sk-container-id-8 div.sk-label label {font-family: monospace;font-weight: bold;display: inline-block;line-height: 1.2em;}#sk-container-id-8 div.sk-label-container {text-align: center;}#sk-container-id-8 div.sk-container {/* jupyter's `normalize.less` sets `[hidden] { display: none; }` but bootstrap.min.css set `[hidden] { display: none !important; }` so we also need the `!important` here to be able to override the default hidden behavior on the sphinx rendered scikit-learn.org. See: https://github.com/scikit-learn/scikit-learn/issues/21755 */display: inline-block !important;position: relative;}#sk-container-id-8 div.sk-text-repr-fallback {display: none;}</style><div id=\"sk-container-id-8\" class=\"sk-top-container\"><div class=\"sk-text-repr-fallback\"><pre>RandomForestClassifier(max_depth=10, min_samples_split=10, n_estimators=200,\n",
       "                       random_state=1)</pre><b>In a Jupyter environment, please rerun this cell to show the HTML representation or trust the notebook. <br />On GitHub, the HTML representation is unable to render, please try loading this page with nbviewer.org.</b></div><div class=\"sk-container\" hidden><div class=\"sk-item\"><div class=\"sk-estimator sk-toggleable\"><input class=\"sk-toggleable__control sk-hidden--visually\" id=\"sk-estimator-id-18\" type=\"checkbox\" checked><label for=\"sk-estimator-id-18\" class=\"sk-toggleable__label sk-toggleable__label-arrow\">RandomForestClassifier</label><div class=\"sk-toggleable__content\"><pre>RandomForestClassifier(max_depth=10, min_samples_split=10, n_estimators=200,\n",
       "                       random_state=1)</pre></div></div></div></div></div>"
      ],
      "text/plain": [
       "RandomForestClassifier(max_depth=10, min_samples_split=10, n_estimators=200,\n",
       "                       random_state=1)"
      ]
     },
     "execution_count": 135,
     "metadata": {},
     "output_type": "execute_result"
    }
   ],
   "source": [
    "best_rf"
   ]
  },
  {
   "cell_type": "markdown",
   "id": "b8528df3",
   "metadata": {},
   "source": [
    "###### Evaluation"
   ]
  },
  {
   "cell_type": "code",
   "execution_count": 136,
   "id": "6f71bc60",
   "metadata": {},
   "outputs": [
    {
     "data": {
      "text/plain": [
       "0.7884615384615384"
      ]
     },
     "execution_count": 136,
     "metadata": {},
     "output_type": "execute_result"
    }
   ],
   "source": [
    "preds = best_rf.predict(test[predictors])\n",
    "accuracy_score(test['target'],preds)"
   ]
  },
  {
   "cell_type": "code",
   "execution_count": 137,
   "id": "a7671df4",
   "metadata": {},
   "outputs": [
    {
     "data": {
      "text/plain": [
       "0.7692307692307693"
      ]
     },
     "execution_count": 137,
     "metadata": {},
     "output_type": "execute_result"
    }
   ],
   "source": [
    "precision_score(test['target'],preds)"
   ]
  },
  {
   "cell_type": "code",
   "execution_count": 138,
   "id": "ef630ef0",
   "metadata": {},
   "outputs": [
    {
     "data": {
      "text/plain": [
       "array([[93,  9],\n",
       "       [24, 30]])"
      ]
     },
     "execution_count": 138,
     "metadata": {},
     "output_type": "execute_result"
    }
   ],
   "source": [
    "confusion_matrix(test['target'],preds)"
   ]
  },
  {
   "cell_type": "code",
   "execution_count": 139,
   "id": "663bd794",
   "metadata": {},
   "outputs": [
    {
     "name": "stderr",
     "output_type": "stream",
     "text": [
      "/Users/shrey/anaconda3/lib/python3.11/site-packages/seaborn/_oldcore.py:1765: FutureWarning: unique with argument that is not not a Series, Index, ExtensionArray, or np.ndarray is deprecated and will raise in a future version.\n",
      "  order = pd.unique(vector)\n"
     ]
    },
    {
     "data": {
      "image/png": "[encoded data removed]",
      "text/plain": [
       "<Figure size 1000x600 with 1 Axes>"
      ]
     },
     "metadata": {},
     "output_type": "display_data"
    }
   ],
   "source": [
    "plt.figure(figsize=(10,6))\n",
    "sns.barplot(x=best_rf.feature_importances_, y=predictors)\n",
    "plt.title('feature Importance in Random Forest Model')\n",
    "plt.show()"
   ]
  },
  {
   "cell_type": "code",
   "execution_count": null,
   "id": "a025d796",
   "metadata": {},
   "outputs": [],
   "source": []
  }
 ],
 "metadata": {
  "kernelspec": {
   "display_name": "Python 3 (ipykernel)",
   "language": "python",
   "name": "python3"
  },
  "language_info": {
   "codemirror_mode": {
    "name": "ipython",
    "version": 3
   },
   "file_extension": ".py",
   "mimetype": "text/x-python",
   "name": "python",
   "nbconvert_exporter": "python",
   "pygments_lexer": "ipython3",
   "version": "3.11.5"
  }
 },
 "nbformat": 4,
 "nbformat_minor": 5
}
